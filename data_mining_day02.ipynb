{
 "cells": [
  {
   "cell_type": "code",
   "execution_count": 1,
   "metadata": {},
   "outputs": [],
   "source": [
    "import numpy as np"
   ]
  },
  {
   "cell_type": "code",
   "execution_count": 2,
   "metadata": {},
   "outputs": [],
   "source": [
    "scores = np.array([[80, 89, 86, 67, 79],\n",
    "[78, 97, 89, 67, 81],\n",
    "[90, 94, 78, 67, 74],\n",
    "[91, 91, 90, 67, 69],\n",
    "[76, 87, 75, 67, 86],\n",
    "[70, 79, 84, 67, 84],\n",
    "[94, 92, 93, 67, 64],\n",
    "[86, 85, 83, 67, 80]])\n"
   ]
  },
  {
   "cell_type": "code",
   "execution_count": 3,
   "metadata": {},
   "outputs": [
    {
     "data": {
      "text/plain": [
       "array([[80, 89, 86, 67, 79],\n",
       "       [78, 97, 89, 67, 81],\n",
       "       [90, 94, 78, 67, 74],\n",
       "       [91, 91, 90, 67, 69],\n",
       "       [76, 87, 75, 67, 86],\n",
       "       [70, 79, 84, 67, 84],\n",
       "       [94, 92, 93, 67, 64],\n",
       "       [86, 85, 83, 67, 80]])"
      ]
     },
     "execution_count": 3,
     "metadata": {},
     "output_type": "execute_result"
    }
   ],
   "source": [
    "scores"
   ]
  },
  {
   "cell_type": "code",
   "execution_count": 7,
   "metadata": {},
   "outputs": [
    {
     "data": {
      "text/plain": [
       "(8, 5)"
      ]
     },
     "execution_count": 7,
     "metadata": {},
     "output_type": "execute_result"
    }
   ],
   "source": [
    "scores.shape"
   ]
  },
  {
   "cell_type": "code",
   "execution_count": 8,
   "metadata": {},
   "outputs": [
    {
     "data": {
      "text/plain": [
       "2"
      ]
     },
     "execution_count": 8,
     "metadata": {},
     "output_type": "execute_result"
    }
   ],
   "source": [
    "scores.ndim"
   ]
  },
  {
   "cell_type": "code",
   "execution_count": 9,
   "metadata": {},
   "outputs": [
    {
     "data": {
      "text/plain": [
       "40"
      ]
     },
     "execution_count": 9,
     "metadata": {},
     "output_type": "execute_result"
    }
   ],
   "source": [
    "scores.size"
   ]
  },
  {
   "cell_type": "code",
   "execution_count": 11,
   "metadata": {},
   "outputs": [
    {
     "data": {
      "text/plain": [
       "dtype('int64')"
      ]
     },
     "execution_count": 11,
     "metadata": {},
     "output_type": "execute_result"
    }
   ],
   "source": [
    "scores.dtype"
   ]
  },
  {
   "cell_type": "code",
   "execution_count": 12,
   "metadata": {},
   "outputs": [
    {
     "data": {
      "text/plain": [
       "8"
      ]
     },
     "execution_count": 12,
     "metadata": {},
     "output_type": "execute_result"
    }
   ],
   "source": [
    "scores.itemsize"
   ]
  },
  {
   "cell_type": "code",
   "execution_count": 13,
   "metadata": {},
   "outputs": [],
   "source": [
    "a = np.array([[1,2,3],[4,5,6]])\n",
    "b = np.array([1,2,3,4])\n",
    "c = np.array([[[1,2,3],[4,5,6]],[[1,2,3],[4,5,6]]])"
   ]
  },
  {
   "cell_type": "code",
   "execution_count": 14,
   "metadata": {},
   "outputs": [
    {
     "data": {
      "text/plain": [
       "array([[1, 2, 3],\n",
       "       [4, 5, 6]])"
      ]
     },
     "execution_count": 14,
     "metadata": {},
     "output_type": "execute_result"
    }
   ],
   "source": [
    "a"
   ]
  },
  {
   "cell_type": "code",
   "execution_count": 16,
   "metadata": {},
   "outputs": [
    {
     "data": {
      "text/plain": [
       "(4,)"
      ]
     },
     "execution_count": 16,
     "metadata": {},
     "output_type": "execute_result"
    }
   ],
   "source": [
    "b.shape"
   ]
  },
  {
   "cell_type": "code",
   "execution_count": 17,
   "metadata": {},
   "outputs": [
    {
     "data": {
      "text/plain": [
       "array([[[1, 2, 3],\n",
       "        [4, 5, 6]],\n",
       "\n",
       "       [[1, 2, 3],\n",
       "        [4, 5, 6]]])"
      ]
     },
     "execution_count": 17,
     "metadata": {},
     "output_type": "execute_result"
    }
   ],
   "source": [
    "c"
   ]
  },
  {
   "cell_type": "code",
   "execution_count": 22,
   "metadata": {},
   "outputs": [
    {
     "data": {
      "text/plain": [
       "array([[0., 0., 0., 0.],\n",
       "       [0., 0., 0., 0.],\n",
       "       [0., 0., 0., 0.]])"
      ]
     },
     "execution_count": 22,
     "metadata": {},
     "output_type": "execute_result"
    }
   ],
   "source": [
    "np.zeros(shape=[3, 4])"
   ]
  },
  {
   "cell_type": "code",
   "execution_count": 25,
   "metadata": {},
   "outputs": [
    {
     "data": {
      "text/plain": [
       "array([[1, 1, 1],\n",
       "       [1, 1, 1]], dtype=int32)"
      ]
     },
     "execution_count": 25,
     "metadata": {},
     "output_type": "execute_result"
    }
   ],
   "source": [
    "np.ones(shape=(2, 3), dtype=np.int32)"
   ]
  },
  {
   "cell_type": "code",
   "execution_count": 27,
   "metadata": {},
   "outputs": [
    {
     "data": {
      "text/plain": [
       "array([[80, 89, 86, 67, 79],\n",
       "       [78, 97, 89, 67, 81],\n",
       "       [90, 94, 78, 67, 74],\n",
       "       [91, 91, 90, 67, 69],\n",
       "       [76, 87, 75, 67, 86],\n",
       "       [70, 79, 84, 67, 84],\n",
       "       [94, 92, 93, 67, 64],\n",
       "       [86, 85, 83, 67, 80]])"
      ]
     },
     "execution_count": 27,
     "metadata": {},
     "output_type": "execute_result"
    }
   ],
   "source": [
    "np.array(scores)"
   ]
  },
  {
   "cell_type": "code",
   "execution_count": 28,
   "metadata": {},
   "outputs": [
    {
     "data": {
      "text/plain": [
       "array([[80, 89, 86, 67, 79],\n",
       "       [78, 97, 89, 67, 81],\n",
       "       [90, 94, 78, 67, 74],\n",
       "       [91, 91, 90, 67, 69],\n",
       "       [76, 87, 75, 67, 86],\n",
       "       [70, 79, 84, 67, 84],\n",
       "       [94, 92, 93, 67, 64],\n",
       "       [86, 85, 83, 67, 80]])"
      ]
     },
     "execution_count": 28,
     "metadata": {},
     "output_type": "execute_result"
    }
   ],
   "source": [
    "np.asarray(scores)"
   ]
  },
  {
   "cell_type": "code",
   "execution_count": 29,
   "metadata": {},
   "outputs": [
    {
     "data": {
      "text/plain": [
       "array([[80, 89, 86, 67, 79],\n",
       "       [78, 97, 89, 67, 81],\n",
       "       [90, 94, 78, 67, 74],\n",
       "       [91, 91, 90, 67, 69],\n",
       "       [76, 87, 75, 67, 86],\n",
       "       [70, 79, 84, 67, 84],\n",
       "       [94, 92, 93, 67, 64],\n",
       "       [86, 85, 83, 67, 80]])"
      ]
     },
     "execution_count": 29,
     "metadata": {},
     "output_type": "execute_result"
    }
   ],
   "source": [
    "np.copy(scores)"
   ]
  },
  {
   "cell_type": "code",
   "execution_count": 32,
   "metadata": {},
   "outputs": [
    {
     "data": {
      "text/plain": [
       "array([ 0. ,  2.5,  5. ,  7.5, 10. ])"
      ]
     },
     "execution_count": 32,
     "metadata": {},
     "output_type": "execute_result"
    }
   ],
   "source": [
    "np.linspace(0, 10, 5)"
   ]
  },
  {
   "cell_type": "code",
   "execution_count": 35,
   "metadata": {},
   "outputs": [
    {
     "data": {
      "text/plain": [
       "array([ 0,  5, 10])"
      ]
     },
     "execution_count": 35,
     "metadata": {},
     "output_type": "execute_result"
    }
   ],
   "source": [
    "np.arange(0, 11, 5)"
   ]
  },
  {
   "cell_type": "code",
   "execution_count": 7,
   "metadata": {},
   "outputs": [],
   "source": [
    "data1 = np.random.uniform(low=-1, high=1, size=1000000)"
   ]
  },
  {
   "cell_type": "code",
   "execution_count": 37,
   "metadata": {},
   "outputs": [
    {
     "data": {
      "text/plain": [
       "array([ 0.950881  ,  0.35616241, -0.13315831, ..., -0.65825256,\n",
       "        0.10242378, -0.07890915])"
      ]
     },
     "execution_count": 37,
     "metadata": {},
     "output_type": "execute_result"
    }
   ],
   "source": [
    "data1"
   ]
  },
  {
   "cell_type": "code",
   "execution_count": 5,
   "metadata": {},
   "outputs": [],
   "source": [
    "import matplotlib.pyplot as plt"
   ]
  },
  {
   "cell_type": "code",
   "execution_count": 8,
   "metadata": {},
   "outputs": [
    {
     "data": {
      "image/png": "[encoded data removed]",
      "text/plain": [
       "<Figure size 900x360 with 1 Axes>"
      ]
     },
     "metadata": {
      "needs_background": "light"
     },
     "output_type": "display_data"
    }
   ],
   "source": [
    "plt.figure(figsize=(15, 6), dpi=60)\n",
    "plt.hist(data1,1000)\n",
    "plt.show()"
   ]
  },
  {
   "cell_type": "code",
   "execution_count": 9,
   "metadata": {},
   "outputs": [],
   "source": [
    "data2 = np.random.normal(loc=1.75, scale=0.1, size=1000000)"
   ]
  },
  {
   "cell_type": "code",
   "execution_count": 10,
   "metadata": {},
   "outputs": [
    {
     "data": {
      "image/png": "[encoded data removed]",
      "text/plain": [
       "<Figure size 900x360 with 1 Axes>"
      ]
     },
     "metadata": {
      "needs_background": "light"
     },
     "output_type": "display_data"
    }
   ],
   "source": [
    "plt.figure(figsize=(15, 6), dpi=60)\n",
    "plt.hist(data2,1000)\n",
    "plt.show()"
   ]
  },
  {
   "cell_type": "markdown",
   "metadata": {},
   "source": [
    "### 随机生成8只股票2周的交易日涨跌幅数据"
   ]
  },
  {
   "cell_type": "code",
   "execution_count": 21,
   "metadata": {},
   "outputs": [],
   "source": [
    "stock_change = np.random.normal(loc=0, scale=1, size=(8, 10))"
   ]
  },
  {
   "cell_type": "code",
   "execution_count": 22,
   "metadata": {},
   "outputs": [
    {
     "data": {
      "text/plain": [
       "array([[ 0.26345299, -2.10428183, -0.8154526 , -0.07691859,  1.19087407,\n",
       "         1.2656571 , -0.06862278, -1.65622531,  0.58510754,  0.14562278],\n",
       "       [ 1.72445931, -0.39659907,  0.96963419, -0.58652117, -1.08948088,\n",
       "         1.147922  ,  1.39093192,  0.0420025 , -0.30552495, -0.77380991],\n",
       "       [ 0.86844329, -1.46666118, -0.15351013,  0.09693498,  1.07858002,\n",
       "         0.48588636, -0.16163126,  1.61126586, -0.22513099, -0.70228543],\n",
       "       [-0.71619975,  0.39722712,  0.69650567,  0.3131146 , -0.75304786,\n",
       "        -0.25318673,  0.557553  , -0.14953109,  1.68370227,  0.23100884],\n",
       "       [-1.20727545,  0.30329943, -0.25590126,  0.34573521, -0.03696024,\n",
       "         1.54558612,  0.45443389, -0.64386326,  0.53520636, -1.37809217],\n",
       "       [-0.34158346,  0.20729653,  0.85156416, -1.26893207,  1.10293478,\n",
       "        -2.10888137, -1.34639049, -0.66971965,  0.45182077, -1.28816772],\n",
       "       [-1.72214151, -1.47658631,  0.06798819, -0.34637652, -1.51413349,\n",
       "         1.80406106, -0.50047318, -0.01872154, -1.17421329, -1.36792258],\n",
       "       [ 0.20521694,  1.03531495, -1.15316495,  0.1940348 , -1.53979296,\n",
       "        -0.2309721 , -0.68420857,  1.60003554,  0.96616783,  0.50831557]])"
      ]
     },
     "execution_count": 22,
     "metadata": {},
     "output_type": "execute_result"
    }
   ],
   "source": [
    "# stock_change.dtype = 'float32'\n",
    "stock_change"
   ]
  },
  {
   "cell_type": "code",
   "execution_count": 14,
   "metadata": {},
   "outputs": [
    {
     "data": {
      "text/plain": [
       "array([0.64150107, 1.70908654, 1.15270017])"
      ]
     },
     "execution_count": 14,
     "metadata": {},
     "output_type": "execute_result"
    }
   ],
   "source": [
    "stock_change[0,:3]"
   ]
  },
  {
   "cell_type": "code",
   "execution_count": 15,
   "metadata": {},
   "outputs": [],
   "source": [
    "a1 = np.array([ [[1,2,3],[4,5,6]], [[12,3,34],[5,6,7]]])"
   ]
  },
  {
   "cell_type": "code",
   "execution_count": 16,
   "metadata": {},
   "outputs": [
    {
     "data": {
      "text/plain": [
       "array([[[ 1,  2,  3],\n",
       "        [ 4,  5,  6]],\n",
       "\n",
       "       [[12,  3, 34],\n",
       "        [ 5,  6,  7]]])"
      ]
     },
     "execution_count": 16,
     "metadata": {},
     "output_type": "execute_result"
    }
   ],
   "source": [
    "a1"
   ]
  },
  {
   "cell_type": "code",
   "execution_count": 23,
   "metadata": {},
   "outputs": [
    {
     "data": {
      "text/plain": [
       "array([[ 0.26345299, -2.10428183, -0.8154526 , -0.07691859,  1.19087407,\n",
       "         1.2656571 , -0.06862278, -1.65622531,  0.58510754,  0.14562278],\n",
       "       [ 1.72445931, -0.39659907,  0.96963419, -0.58652117, -1.08948088,\n",
       "         1.147922  ,  1.39093192,  0.0420025 , -0.30552495, -0.77380991],\n",
       "       [ 0.86844329, -1.46666118, -0.15351013,  0.09693498,  1.07858002,\n",
       "         0.48588636, -0.16163126,  1.61126586, -0.22513099, -0.70228543],\n",
       "       [-0.71619975,  0.39722712,  0.69650567,  0.3131146 , -0.75304786,\n",
       "        -0.25318673,  0.557553  , -0.14953109,  1.68370227,  0.23100884],\n",
       "       [-1.20727545,  0.30329943, -0.25590126,  0.34573521, -0.03696024,\n",
       "         1.54558612,  0.45443389, -0.64386326,  0.53520636, -1.37809217],\n",
       "       [-0.34158346,  0.20729653,  0.85156416, -1.26893207,  1.10293478,\n",
       "        -2.10888137, -1.34639049, -0.66971965,  0.45182077, -1.28816772],\n",
       "       [-1.72214151, -1.47658631,  0.06798819, -0.34637652, -1.51413349,\n",
       "         1.80406106, -0.50047318, -0.01872154, -1.17421329, -1.36792258],\n",
       "       [ 0.20521694,  1.03531495, -1.15316495,  0.1940348 , -1.53979296,\n",
       "        -0.2309721 , -0.68420857,  1.60003554,  0.96616783,  0.50831557]])"
      ]
     },
     "execution_count": 23,
     "metadata": {},
     "output_type": "execute_result"
    }
   ],
   "source": [
    "stock_change"
   ]
  },
  {
   "cell_type": "code",
   "execution_count": 25,
   "metadata": {},
   "outputs": [
    {
     "data": {
      "text/plain": [
       "array([[ 0.26345299, -2.10428183, -0.8154526 , -0.07691859,  1.19087407,\n",
       "         1.2656571 , -0.06862278, -1.65622531],\n",
       "       [ 0.58510754,  0.14562278,  1.72445931, -0.39659907,  0.96963419,\n",
       "        -0.58652117, -1.08948088,  1.147922  ],\n",
       "       [ 1.39093192,  0.0420025 , -0.30552495, -0.77380991,  0.86844329,\n",
       "        -1.46666118, -0.15351013,  0.09693498],\n",
       "       [ 1.07858002,  0.48588636, -0.16163126,  1.61126586, -0.22513099,\n",
       "        -0.70228543, -0.71619975,  0.39722712],\n",
       "       [ 0.69650567,  0.3131146 , -0.75304786, -0.25318673,  0.557553  ,\n",
       "        -0.14953109,  1.68370227,  0.23100884],\n",
       "       [-1.20727545,  0.30329943, -0.25590126,  0.34573521, -0.03696024,\n",
       "         1.54558612,  0.45443389, -0.64386326],\n",
       "       [ 0.53520636, -1.37809217, -0.34158346,  0.20729653,  0.85156416,\n",
       "        -1.26893207,  1.10293478, -2.10888137],\n",
       "       [-1.34639049, -0.66971965,  0.45182077, -1.28816772, -1.72214151,\n",
       "        -1.47658631,  0.06798819, -0.34637652],\n",
       "       [-1.51413349,  1.80406106, -0.50047318, -0.01872154, -1.17421329,\n",
       "        -1.36792258,  0.20521694,  1.03531495],\n",
       "       [-1.15316495,  0.1940348 , -1.53979296, -0.2309721 , -0.68420857,\n",
       "         1.60003554,  0.96616783,  0.50831557]])"
      ]
     },
     "execution_count": 25,
     "metadata": {},
     "output_type": "execute_result"
    }
   ],
   "source": [
    "stock_change.resize((10, 8))\n",
    "stock_change"
   ]
  },
  {
   "cell_type": "code",
   "execution_count": 26,
   "metadata": {},
   "outputs": [
    {
     "data": {
      "text/plain": [
       "array([[ 0.26345299,  0.58510754,  1.39093192,  1.07858002,  0.69650567,\n",
       "        -1.20727545,  0.53520636, -1.34639049, -1.51413349, -1.15316495],\n",
       "       [-2.10428183,  0.14562278,  0.0420025 ,  0.48588636,  0.3131146 ,\n",
       "         0.30329943, -1.37809217, -0.66971965,  1.80406106,  0.1940348 ],\n",
       "       [-0.8154526 ,  1.72445931, -0.30552495, -0.16163126, -0.75304786,\n",
       "        -0.25590126, -0.34158346,  0.45182077, -0.50047318, -1.53979296],\n",
       "       [-0.07691859, -0.39659907, -0.77380991,  1.61126586, -0.25318673,\n",
       "         0.34573521,  0.20729653, -1.28816772, -0.01872154, -0.2309721 ],\n",
       "       [ 1.19087407,  0.96963419,  0.86844329, -0.22513099,  0.557553  ,\n",
       "        -0.03696024,  0.85156416, -1.72214151, -1.17421329, -0.68420857],\n",
       "       [ 1.2656571 , -0.58652117, -1.46666118, -0.70228543, -0.14953109,\n",
       "         1.54558612, -1.26893207, -1.47658631, -1.36792258,  1.60003554],\n",
       "       [-0.06862278, -1.08948088, -0.15351013, -0.71619975,  1.68370227,\n",
       "         0.45443389,  1.10293478,  0.06798819,  0.20521694,  0.96616783],\n",
       "       [-1.65622531,  1.147922  ,  0.09693498,  0.39722712,  0.23100884,\n",
       "        -0.64386326, -2.10888137, -0.34637652,  1.03531495,  0.50831557]])"
      ]
     },
     "execution_count": 26,
     "metadata": {},
     "output_type": "execute_result"
    }
   ],
   "source": [
    "stock_change.T"
   ]
  },
  {
   "cell_type": "code",
   "execution_count": 27,
   "metadata": {},
   "outputs": [
    {
     "data": {
      "text/plain": [
       "array([[ 0, -2,  0,  0,  1,  1,  0, -1],\n",
       "       [ 0,  0,  1,  0,  0,  0, -1,  1],\n",
       "       [ 1,  0,  0,  0,  0, -1,  0,  0],\n",
       "       [ 1,  0,  0,  1,  0,  0,  0,  0],\n",
       "       [ 0,  0,  0,  0,  0,  0,  1,  0],\n",
       "       [-1,  0,  0,  0,  0,  1,  0,  0],\n",
       "       [ 0, -1,  0,  0,  0, -1,  1, -2],\n",
       "       [-1,  0,  0, -1, -1, -1,  0,  0],\n",
       "       [-1,  1,  0,  0, -1, -1,  0,  1],\n",
       "       [-1,  0, -1,  0,  0,  1,  0,  0]], dtype=int32)"
      ]
     },
     "execution_count": 27,
     "metadata": {},
     "output_type": "execute_result"
    }
   ],
   "source": [
    "stock_change.astype(\"int32\")"
   ]
  },
  {
   "cell_type": "markdown",
   "metadata": {},
   "source": [
    "### 数组去重"
   ]
  },
  {
   "cell_type": "code",
   "execution_count": 28,
   "metadata": {},
   "outputs": [],
   "source": [
    "temp = np.array([[1, 2, 3, 4],[3, 4, 5, 6]])"
   ]
  },
  {
   "cell_type": "code",
   "execution_count": 29,
   "metadata": {},
   "outputs": [
    {
     "data": {
      "text/plain": [
       "array([1, 2, 3, 4, 5, 6])"
      ]
     },
     "execution_count": 29,
     "metadata": {},
     "output_type": "execute_result"
    }
   ],
   "source": [
    "np.unique(temp)"
   ]
  },
  {
   "cell_type": "code",
   "execution_count": 31,
   "metadata": {},
   "outputs": [
    {
     "data": {
      "text/plain": [
       "array([[ 0.26345299,  0.58510754,  1.39093192,  1.07858002,  0.69650567,\n",
       "        -1.20727545,  0.53520636, -1.34639049, -1.51413349, -1.15316495],\n",
       "       [-2.10428183,  0.14562278,  0.0420025 ,  0.48588636,  0.3131146 ,\n",
       "         0.30329943, -1.37809217, -0.66971965,  1.80406106,  0.1940348 ],\n",
       "       [-0.8154526 ,  1.72445931, -0.30552495, -0.16163126, -0.75304786,\n",
       "        -0.25590126, -0.34158346,  0.45182077, -0.50047318, -1.53979296],\n",
       "       [-0.07691859, -0.39659907, -0.77380991,  1.61126586, -0.25318673,\n",
       "         0.34573521,  0.20729653, -1.28816772, -0.01872154, -0.2309721 ],\n",
       "       [ 1.19087407,  0.96963419,  0.86844329, -0.22513099,  0.557553  ,\n",
       "        -0.03696024,  0.85156416, -1.72214151, -1.17421329, -0.68420857],\n",
       "       [ 1.2656571 , -0.58652117, -1.46666118, -0.70228543, -0.14953109,\n",
       "         1.54558612, -1.26893207, -1.47658631, -1.36792258,  1.60003554],\n",
       "       [-0.06862278, -1.08948088, -0.15351013, -0.71619975,  1.68370227,\n",
       "         0.45443389,  1.10293478,  0.06798819,  0.20521694,  0.96616783],\n",
       "       [-1.65622531,  1.147922  ,  0.09693498,  0.39722712,  0.23100884,\n",
       "        -0.64386326, -2.10888137, -0.34637652,  1.03531495,  0.50831557]])"
      ]
     },
     "execution_count": 31,
     "metadata": {},
     "output_type": "execute_result"
    }
   ],
   "source": [
    "stock_change.T"
   ]
  },
  {
   "cell_type": "code",
   "execution_count": 33,
   "metadata": {},
   "outputs": [],
   "source": [
    "stock_change.resize(8, 10)"
   ]
  },
  {
   "cell_type": "code",
   "execution_count": 34,
   "metadata": {},
   "outputs": [
    {
     "data": {
      "text/plain": [
       "array([[ 0.26345299, -2.10428183, -0.8154526 , -0.07691859,  1.19087407,\n",
       "         1.2656571 , -0.06862278, -1.65622531,  0.58510754,  0.14562278],\n",
       "       [ 1.72445931, -0.39659907,  0.96963419, -0.58652117, -1.08948088,\n",
       "         1.147922  ,  1.39093192,  0.0420025 , -0.30552495, -0.77380991],\n",
       "       [ 0.86844329, -1.46666118, -0.15351013,  0.09693498,  1.07858002,\n",
       "         0.48588636, -0.16163126,  1.61126586, -0.22513099, -0.70228543],\n",
       "       [-0.71619975,  0.39722712,  0.69650567,  0.3131146 , -0.75304786,\n",
       "        -0.25318673,  0.557553  , -0.14953109,  1.68370227,  0.23100884],\n",
       "       [-1.20727545,  0.30329943, -0.25590126,  0.34573521, -0.03696024,\n",
       "         1.54558612,  0.45443389, -0.64386326,  0.53520636, -1.37809217],\n",
       "       [-0.34158346,  0.20729653,  0.85156416, -1.26893207,  1.10293478,\n",
       "        -2.10888137, -1.34639049, -0.66971965,  0.45182077, -1.28816772],\n",
       "       [-1.72214151, -1.47658631,  0.06798819, -0.34637652, -1.51413349,\n",
       "         1.80406106, -0.50047318, -0.01872154, -1.17421329, -1.36792258],\n",
       "       [ 0.20521694,  1.03531495, -1.15316495,  0.1940348 , -1.53979296,\n",
       "        -0.2309721 , -0.68420857,  1.60003554,  0.96616783,  0.50831557]])"
      ]
     },
     "execution_count": 34,
     "metadata": {},
     "output_type": "execute_result"
    }
   ],
   "source": [
    "stock_change"
   ]
  },
  {
   "cell_type": "code",
   "execution_count": 35,
   "metadata": {},
   "outputs": [
    {
     "data": {
      "text/plain": [
       "array([[False, False, False, False,  True,  True, False, False,  True,\n",
       "        False],\n",
       "       [ True, False,  True, False, False,  True,  True, False, False,\n",
       "        False],\n",
       "       [ True, False, False, False,  True, False, False,  True, False,\n",
       "        False],\n",
       "       [False, False,  True, False, False, False,  True, False,  True,\n",
       "        False],\n",
       "       [False, False, False, False, False,  True, False, False,  True,\n",
       "        False],\n",
       "       [False, False,  True, False,  True, False, False, False, False,\n",
       "        False],\n",
       "       [False, False, False, False, False,  True, False, False, False,\n",
       "        False],\n",
       "       [False,  True, False, False, False, False, False,  True,  True,\n",
       "         True]])"
      ]
     },
     "execution_count": 35,
     "metadata": {},
     "output_type": "execute_result"
    }
   ],
   "source": [
    "stock_change > 0.5"
   ]
  },
  {
   "cell_type": "code",
   "execution_count": 36,
   "metadata": {},
   "outputs": [
    {
     "data": {
      "text/plain": [
       "array([1.19087407, 1.2656571 , 0.58510754, 1.72445931, 0.96963419,\n",
       "       1.147922  , 1.39093192, 0.86844329, 1.07858002, 1.61126586,\n",
       "       0.69650567, 0.557553  , 1.68370227, 1.54558612, 0.53520636,\n",
       "       0.85156416, 1.10293478, 1.80406106, 1.03531495, 1.60003554,\n",
       "       0.96616783, 0.50831557])"
      ]
     },
     "execution_count": 36,
     "metadata": {},
     "output_type": "execute_result"
    }
   ],
   "source": [
    "stock_change[stock_change > 0.5]"
   ]
  },
  {
   "cell_type": "code",
   "execution_count": 37,
   "metadata": {},
   "outputs": [
    {
     "data": {
      "text/plain": [
       "False"
      ]
     },
     "execution_count": 37,
     "metadata": {},
     "output_type": "execute_result"
    }
   ],
   "source": [
    "np.all(stock_change[:2,:5] > 0)"
   ]
  },
  {
   "cell_type": "code",
   "execution_count": 38,
   "metadata": {},
   "outputs": [
    {
     "data": {
      "text/plain": [
       "True"
      ]
     },
     "execution_count": 38,
     "metadata": {},
     "output_type": "execute_result"
    }
   ],
   "source": [
    "np.any(stock_change[:5,:] > 0)"
   ]
  },
  {
   "cell_type": "code",
   "execution_count": 39,
   "metadata": {},
   "outputs": [],
   "source": [
    "temp = stock_change[:4, :4]"
   ]
  },
  {
   "cell_type": "code",
   "execution_count": 40,
   "metadata": {},
   "outputs": [
    {
     "data": {
      "text/plain": [
       "array([[ 0.26345299, -2.10428183, -0.8154526 , -0.07691859],\n",
       "       [ 1.72445931, -0.39659907,  0.96963419, -0.58652117],\n",
       "       [ 0.86844329, -1.46666118, -0.15351013,  0.09693498],\n",
       "       [-0.71619975,  0.39722712,  0.69650567,  0.3131146 ]])"
      ]
     },
     "execution_count": 40,
     "metadata": {},
     "output_type": "execute_result"
    }
   ],
   "source": [
    "temp"
   ]
  },
  {
   "cell_type": "code",
   "execution_count": 42,
   "metadata": {},
   "outputs": [
    {
     "data": {
      "text/plain": [
       "array([[1, 0, 0, 0],\n",
       "       [1, 0, 1, 0],\n",
       "       [1, 0, 0, 1],\n",
       "       [0, 1, 1, 1]])"
      ]
     },
     "execution_count": 42,
     "metadata": {},
     "output_type": "execute_result"
    }
   ],
   "source": [
    "# 第一个boolean，第二个 成功赋值， 第三个 失败赋值\n",
    "np.where(temp > 0, 1, 0)"
   ]
  },
  {
   "cell_type": "code",
   "execution_count": 43,
   "metadata": {},
   "outputs": [
    {
     "data": {
      "text/plain": [
       "array([[False, False, False, False],\n",
       "       [False, False,  True, False],\n",
       "       [ True, False, False, False],\n",
       "       [False, False,  True, False]])"
      ]
     },
     "execution_count": 43,
     "metadata": {},
     "output_type": "execute_result"
    }
   ],
   "source": [
    "np.logical_and(temp > 0.5, temp < 1)"
   ]
  },
  {
   "cell_type": "code",
   "execution_count": 44,
   "metadata": {},
   "outputs": [
    {
     "data": {
      "text/plain": [
       "array([[0, 0, 0, 0],\n",
       "       [0, 0, 1, 0],\n",
       "       [1, 0, 0, 0],\n",
       "       [0, 0, 1, 0]])"
      ]
     },
     "execution_count": 44,
     "metadata": {},
     "output_type": "execute_result"
    }
   ],
   "source": [
    "np.where(np.logical_and(temp > 0.5, temp < 1), 1, 0)"
   ]
  },
  {
   "cell_type": "code",
   "execution_count": 45,
   "metadata": {},
   "outputs": [
    {
     "data": {
      "text/plain": [
       "array([[0, 1, 1, 0],\n",
       "       [1, 0, 1, 1],\n",
       "       [1, 1, 0, 0],\n",
       "       [1, 0, 1, 0]])"
      ]
     },
     "execution_count": 45,
     "metadata": {},
     "output_type": "execute_result"
    }
   ],
   "source": [
    "np.where(np.logical_or(temp > 0.5, temp < -0.5), 1, 0)"
   ]
  },
  {
   "cell_type": "code",
   "execution_count": 46,
   "metadata": {},
   "outputs": [
    {
     "data": {
      "text/plain": [
       "1.7244593119303784"
      ]
     },
     "execution_count": 46,
     "metadata": {},
     "output_type": "execute_result"
    }
   ],
   "source": [
    "temp.max()"
   ]
  },
  {
   "cell_type": "code",
   "execution_count": 47,
   "metadata": {},
   "outputs": [
    {
     "data": {
      "text/plain": [
       "array([1.72445931, 0.39722712, 0.96963419, 0.3131146 ])"
      ]
     },
     "execution_count": 47,
     "metadata": {},
     "output_type": "execute_result"
    }
   ],
   "source": [
    "temp.max(axis=0)"
   ]
  },
  {
   "cell_type": "code",
   "execution_count": 49,
   "metadata": {},
   "outputs": [],
   "source": [
    "# ndarray存储矩阵\n",
    "data = np.array([[80, 86],\n",
    "[82, 80],\n",
    "[85, 78],\n",
    "[90, 90],\n",
    "[86, 82],\n",
    "[82, 90],\n",
    "[78, 80],\n",
    "[92, 94]])"
   ]
  },
  {
   "cell_type": "code",
   "execution_count": 50,
   "metadata": {},
   "outputs": [
    {
     "data": {
      "text/plain": [
       "array([[80, 86],\n",
       "       [82, 80],\n",
       "       [85, 78],\n",
       "       [90, 90],\n",
       "       [86, 82],\n",
       "       [82, 90],\n",
       "       [78, 80],\n",
       "       [92, 94]])"
      ]
     },
     "execution_count": 50,
     "metadata": {},
     "output_type": "execute_result"
    }
   ],
   "source": [
    "data"
   ]
  },
  {
   "cell_type": "code",
   "execution_count": 51,
   "metadata": {},
   "outputs": [],
   "source": [
    "# matrix 存储\n",
    "data_mat = np.mat([[80, 86],\n",
    "       [82, 80],\n",
    "       [85, 78],\n",
    "       [90, 90],\n",
    "       [86, 82],\n",
    "       [82, 90],\n",
    "       [78, 80],\n",
    "       [92, 94]])"
   ]
  },
  {
   "cell_type": "code",
   "execution_count": 52,
   "metadata": {},
   "outputs": [
    {
     "data": {
      "text/plain": [
       "matrix([[80, 86],\n",
       "        [82, 80],\n",
       "        [85, 78],\n",
       "        [90, 90],\n",
       "        [86, 82],\n",
       "        [82, 90],\n",
       "        [78, 80],\n",
       "        [92, 94]])"
      ]
     },
     "execution_count": 52,
     "metadata": {},
     "output_type": "execute_result"
    }
   ],
   "source": [
    "data_mat"
   ]
  },
  {
   "cell_type": "code",
   "execution_count": 53,
   "metadata": {},
   "outputs": [
    {
     "data": {
      "text/plain": [
       "numpy.matrix"
      ]
     },
     "execution_count": 53,
     "metadata": {},
     "output_type": "execute_result"
    }
   ],
   "source": [
    "type(data_mat)"
   ]
  },
  {
   "cell_type": "code",
   "execution_count": 55,
   "metadata": {},
   "outputs": [],
   "source": [
    "weights = np.array([[.3], [.7]])"
   ]
  },
  {
   "cell_type": "code",
   "execution_count": 56,
   "metadata": {},
   "outputs": [
    {
     "data": {
      "text/plain": [
       "array([[0.3],\n",
       "       [0.7]])"
      ]
     },
     "execution_count": 56,
     "metadata": {},
     "output_type": "execute_result"
    }
   ],
   "source": [
    "weights"
   ]
  },
  {
   "cell_type": "code",
   "execution_count": 58,
   "metadata": {},
   "outputs": [],
   "source": [
    "scores_finally = data.dot(weights)"
   ]
  },
  {
   "cell_type": "code",
   "execution_count": 59,
   "metadata": {},
   "outputs": [
    {
     "data": {
      "text/plain": [
       "array([[84.2],\n",
       "       [80.6],\n",
       "       [80.1],\n",
       "       [90. ],\n",
       "       [83.2],\n",
       "       [87.6],\n",
       "       [79.4],\n",
       "       [93.4]])"
      ]
     },
     "execution_count": 59,
     "metadata": {},
     "output_type": "execute_result"
    }
   ],
   "source": [
    "scores_finally"
   ]
  },
  {
   "cell_type": "code",
   "execution_count": 60,
   "metadata": {},
   "outputs": [],
   "source": [
    "scores_finally2 = np.matmul(data, weights)"
   ]
  },
  {
   "cell_type": "code",
   "execution_count": 61,
   "metadata": {},
   "outputs": [
    {
     "data": {
      "text/plain": [
       "array([[84.2],\n",
       "       [80.6],\n",
       "       [80.1],\n",
       "       [90. ],\n",
       "       [83.2],\n",
       "       [87.6],\n",
       "       [79.4],\n",
       "       [93.4]])"
      ]
     },
     "execution_count": 61,
     "metadata": {},
     "output_type": "execute_result"
    }
   ],
   "source": [
    "scores_finally2"
   ]
  },
  {
   "cell_type": "code",
   "execution_count": 62,
   "metadata": {},
   "outputs": [],
   "source": [
    "weights_mat = np.matrix([[.3], [.7]])"
   ]
  },
  {
   "cell_type": "code",
   "execution_count": 63,
   "metadata": {},
   "outputs": [],
   "source": [
    "scores_mat = data_mat * weights_mat"
   ]
  },
  {
   "cell_type": "code",
   "execution_count": 64,
   "metadata": {},
   "outputs": [
    {
     "data": {
      "text/plain": [
       "matrix([[84.2],\n",
       "        [80.6],\n",
       "        [80.1],\n",
       "        [90. ],\n",
       "        [83.2],\n",
       "        [87.6],\n",
       "        [79.4],\n",
       "        [93.4]])"
      ]
     },
     "execution_count": 64,
     "metadata": {},
     "output_type": "execute_result"
    }
   ],
   "source": [
    "scores_mat"
   ]
  },
  {
   "cell_type": "code",
   "execution_count": 65,
   "metadata": {},
   "outputs": [],
   "source": [
    "a = stock_change[:2, :4]\n",
    "b = stock_change[4:6, :4]"
   ]
  },
  {
   "cell_type": "code",
   "execution_count": 66,
   "metadata": {},
   "outputs": [
    {
     "data": {
      "text/plain": [
       "(array([[ 0.26345299, -2.10428183, -0.8154526 , -0.07691859],\n",
       "        [ 1.72445931, -0.39659907,  0.96963419, -0.58652117]]),\n",
       " array([[-1.20727545,  0.30329943, -0.25590126,  0.34573521],\n",
       "        [-0.34158346,  0.20729653,  0.85156416, -1.26893207]]))"
      ]
     },
     "execution_count": 66,
     "metadata": {},
     "output_type": "execute_result"
    }
   ],
   "source": [
    "a,b"
   ]
  },
  {
   "cell_type": "code",
   "execution_count": 68,
   "metadata": {},
   "outputs": [
    {
     "data": {
      "text/plain": [
       "array([[ 0.26345299, -2.10428183, -0.8154526 , -0.07691859, -1.20727545,\n",
       "         0.30329943, -0.25590126,  0.34573521],\n",
       "       [ 1.72445931, -0.39659907,  0.96963419, -0.58652117, -0.34158346,\n",
       "         0.20729653,  0.85156416, -1.26893207]])"
      ]
     },
     "execution_count": 68,
     "metadata": {},
     "output_type": "execute_result"
    }
   ],
   "source": [
    "np.hstack((a, b))"
   ]
  },
  {
   "cell_type": "code",
   "execution_count": 69,
   "metadata": {},
   "outputs": [
    {
     "data": {
      "text/plain": [
       "array([[ 0.26345299, -2.10428183, -0.8154526 , -0.07691859, -1.20727545,\n",
       "         0.30329943, -0.25590126,  0.34573521],\n",
       "       [ 1.72445931, -0.39659907,  0.96963419, -0.58652117, -0.34158346,\n",
       "         0.20729653,  0.85156416, -1.26893207]])"
      ]
     },
     "execution_count": 69,
     "metadata": {},
     "output_type": "execute_result"
    }
   ],
   "source": [
    "np.concatenate((a, b), axis=1)"
   ]
  },
  {
   "cell_type": "code",
   "execution_count": 70,
   "metadata": {},
   "outputs": [
    {
     "data": {
      "text/plain": [
       "array([[ 0.26345299, -2.10428183, -0.8154526 , -0.07691859],\n",
       "       [ 1.72445931, -0.39659907,  0.96963419, -0.58652117],\n",
       "       [-1.20727545,  0.30329943, -0.25590126,  0.34573521],\n",
       "       [-0.34158346,  0.20729653,  0.85156416, -1.26893207]])"
      ]
     },
     "execution_count": 70,
     "metadata": {},
     "output_type": "execute_result"
    }
   ],
   "source": [
    "np.vstack((a, b))"
   ]
  },
  {
   "cell_type": "code",
   "execution_count": 71,
   "metadata": {},
   "outputs": [
    {
     "data": {
      "text/plain": [
       "array([[ 0.26345299, -2.10428183, -0.8154526 , -0.07691859],\n",
       "       [ 1.72445931, -0.39659907,  0.96963419, -0.58652117],\n",
       "       [-1.20727545,  0.30329943, -0.25590126,  0.34573521],\n",
       "       [-0.34158346,  0.20729653,  0.85156416, -1.26893207]])"
      ]
     },
     "execution_count": 71,
     "metadata": {},
     "output_type": "execute_result"
    }
   ],
   "source": [
    "np.concatenate((a, b))"
   ]
  },
  {
   "cell_type": "code",
   "execution_count": null,
   "metadata": {},
   "outputs": [],
   "source": []
  }
 ],
 "metadata": {
  "kernelspec": {
   "display_name": "Python 3.7.2 64-bit ('base': conda)",
   "language": "python",
   "name": "python37264bitbaseconda3f8b943db5c14b20bce9cde0e0898a2c"
  },
  "language_info": {
   "codemirror_mode": {
    "name": "ipython",
    "version": 3
   },
   "file_extension": ".py",
   "mimetype": "text/x-python",
   "name": "python",
   "nbconvert_exporter": "python",
   "pygments_lexer": "ipython3",
   "version": "3.7.2"
  }
 },
 "nbformat": 4,
 "nbformat_minor": 4
}
